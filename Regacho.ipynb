{
 "cells": [
  {
   "cell_type": "code",
   "execution_count": 3,
   "metadata": {},
   "outputs": [
    {
     "name": "stdout",
     "output_type": "stream",
     "text": [
      "  buying  maint doors persons lug_boot safety  class\n",
      "0  vhigh  vhigh     2       2    small    low  unacc\n",
      "1  vhigh  vhigh     2       2    small    med  unacc\n",
      "2  vhigh  vhigh     2       2    small   high  unacc\n",
      "3  vhigh  vhigh     2       2      med    low  unacc\n",
      "4  vhigh  vhigh     2       2      med    med  unacc\n",
      "Classification Report:\n",
      "               precision    recall  f1-score   support\n",
      "\n",
      "           0       0.99      0.95      0.97        83\n",
      "           1       0.65      1.00      0.79        11\n",
      "           2       1.00      1.00      1.00       235\n",
      "           3       1.00      0.82      0.90        17\n",
      "\n",
      "    accuracy                           0.98       346\n",
      "   macro avg       0.91      0.94      0.91       346\n",
      "weighted avg       0.99      0.98      0.98       346\n",
      "\n"
     ]
    }
   ],
   "source": [
    "import pandas as pd\n",
    "from sklearn.model_selection import train_test_split\n",
    "from xgboost import XGBClassifier\n",
    "from sklearn.metrics import classification_report\n",
    "from sklearn.preprocessing import LabelEncoder\n",
    "\n",
    "# Load the dataset\n",
    "url = \"car.data\"  \n",
    "column_names = [\"buying\", \"maint\", \"doors\", \"persons\", \"lug_boot\", \"safety\", \"class\"]\n",
    "data = pd.read_csv(url, names=column_names)\n",
    "\n",
    "# Display the first few rows of the dataset\n",
    "print(data.head())\n",
    "\n",
    "# Convert categorical variables to numerical using Label Encoding\n",
    "le = LabelEncoder()\n",
    "data_encoded = data.apply(le.fit_transform)\n",
    "\n",
    "# Split the data into features (X) and target variable (y)\n",
    "X = data_encoded.drop('class', axis=1)\n",
    "y = data_encoded['class']\n",
    "\n",
    "# Split the data into training and testing sets\n",
    "X_train, X_test, y_train, y_test = train_test_split(X, y, test_size=0.2, random_state=42)\n",
    "\n",
    "# Initialize and train the XGBoost classifier\n",
    "model = XGBClassifier(objective='multi:softmax', num_class=len(data['class'].unique()))\n",
    "model.fit(X_train, y_train)\n",
    "\n",
    "# Make predictions on the test set\n",
    "y_pred = model.predict(X_test)\n",
    "\n",
    "# Print the classification report\n",
    "print(\"Classification Report:\\n\", classification_report(y_test, y_pred))"
   ]
  },
  {
   "cell_type": "code",
   "execution_count": 30,
   "metadata": {},
   "outputs": [
    {
     "name": "stdout",
     "output_type": "stream",
     "text": [
      "0:\tlearn: 1.0656403\ttotal: 2.31ms\tremaining: 345ms\n",
      "15:\tlearn: 0.2187014\ttotal: 28.7ms\tremaining: 240ms\n",
      "30:\tlearn: 0.1216388\ttotal: 52.9ms\tremaining: 203ms\n",
      "45:\tlearn: 0.0836041\ttotal: 79ms\tremaining: 179ms\n",
      "60:\tlearn: 0.0613959\ttotal: 102ms\tremaining: 149ms\n",
      "75:\tlearn: 0.0468600\ttotal: 124ms\tremaining: 121ms\n",
      "90:\tlearn: 0.0392031\ttotal: 147ms\tremaining: 95.6ms\n",
      "105:\tlearn: 0.0321159\ttotal: 171ms\tremaining: 71.1ms\n",
      "120:\tlearn: 0.0272209\ttotal: 198ms\tremaining: 47.4ms\n",
      "135:\tlearn: 0.0235938\ttotal: 223ms\tremaining: 23ms\n",
      "149:\tlearn: 0.0209672\ttotal: 244ms\tremaining: 0us\n",
      "Classification Report:\n",
      "               precision    recall  f1-score   support\n",
      "\n",
      "           0       0.99      0.94      0.96        83\n",
      "           1       0.69      1.00      0.81        11\n",
      "           2       1.00      1.00      1.00       235\n",
      "           3       1.00      0.94      0.97        17\n",
      "\n",
      "    accuracy                           0.98       346\n",
      "   macro avg       0.92      0.97      0.94       346\n",
      "weighted avg       0.99      0.98      0.98       346\n",
      "\n"
     ]
    }
   ],
   "source": [
    "import pandas as pd\n",
    "from sklearn.model_selection import train_test_split\n",
    "from catboost import CatBoostClassifier\n",
    "from sklearn.preprocessing import LabelEncoder\n",
    "from sklearn.metrics import classification_report\n",
    "\n",
    "# Assuming 'car.data' is the name of your file\n",
    "# If the file is in a different format or location, please adjust accordingly\n",
    "column_names = ['buying', 'maint', 'doors', 'persons', 'lug_boot', 'safety', 'class']\n",
    "data = pd.read_csv('car.data', names=column_names)\n",
    "\n",
    "# Convert '5more' to 5 in the 'doors' column\n",
    "data['doors'] = data['doors'].replace('5more', 5)\n",
    "\n",
    "# Convert entire DataFrame to string\n",
    "data = data.astype(str)\n",
    "\n",
    "# Convert categorical features to numerical using Label Encoding\n",
    "label_encoder = LabelEncoder()\n",
    "X_encoded = data.copy()\n",
    "\n",
    "# Apply label encoding only to categorical columns\n",
    "categorical_columns = X_encoded.select_dtypes(include=['object']).columns\n",
    "X_encoded[categorical_columns] = X_encoded[categorical_columns].apply(label_encoder.fit_transform)\n",
    "\n",
    "# Separate features and target\n",
    "X = X_encoded.drop('class', axis=1)\n",
    "y = X_encoded['class']\n",
    "\n",
    "# Train-test split\n",
    "X_train, X_test, y_train, y_test = train_test_split(X, y, test_size=0.2, random_state=42)\n",
    "\n",
    "# Create CatBoost classifier\n",
    "classifier = CatBoostClassifier(iterations=150, depth=5, learning_rate=0.3, loss_function='MultiClass', verbose=15)\n",
    "classifier.fit(X_train, y_train)\n",
    "\n",
    "# Predictions and Evaluation\n",
    "y_pred = classifier.predict(X_test)\n",
    "print('Classification Report:\\n', classification_report(y_test, y_pred))\n"
   ]
  },
  {
   "cell_type": "code",
   "execution_count": 35,
   "metadata": {},
   "outputs": [
    {
     "name": "stdout",
     "output_type": "stream",
     "text": [
      "\n",
      "Class: unacc\n",
      "No instances of this class in the XGBoost test set.\n",
      "No instances of this class in the CatBoost test set.\n",
      "\n",
      "Class: acc\n",
      "No instances of this class in the XGBoost test set.\n",
      "No instances of this class in the CatBoost test set.\n",
      "\n",
      "Class: vgood\n",
      "No instances of this class in the XGBoost test set.\n",
      "No instances of this class in the CatBoost test set.\n",
      "\n",
      "Class: good\n",
      "No instances of this class in the XGBoost test set.\n",
      "No instances of this class in the CatBoost test set.\n"
     ]
    },
    {
     "name": "stderr",
     "output_type": "stream",
     "text": [
      "C:\\Users\\chris\\AppData\\Local\\Temp\\ipykernel_15048\\3671030603.py:6: FutureWarning: elementwise comparison failed; returning scalar instead, but in the future will perform elementwise comparison\n",
      "  indices_xgb = np.where(y_xgb_pred == label)[0]\n",
      "C:\\Users\\chris\\AppData\\Local\\Temp\\ipykernel_15048\\3671030603.py:7: FutureWarning: elementwise comparison failed; returning scalar instead, but in the future will perform elementwise comparison\n",
      "  indices_catboost = np.where(y_catboost_pred == label)[0]\n"
     ]
    }
   ],
   "source": [
    "import numpy as np\n",
    "\n",
    "# Compare individual accuracy ratings\n",
    "class_labels = data['class'].unique()\n",
    "for label in class_labels:\n",
    "    indices_xgb = np.where(y_xgb_pred == label)[0]\n",
    "    indices_catboost = np.where(y_catboost_pred == label)[0]\n",
    "    \n",
    "    if len(indices_xgb) > 0:\n",
    "        accuracy_xgb_label = accuracy_score(y_test.iloc[indices_xgb], y_xgb_pred[indices_xgb])\n",
    "        print(f\"\\nClass: {label}\")\n",
    "        print(\"XGBoost Classifier Individual Accuracy:\", accuracy_xgb_label)\n",
    "    else:\n",
    "        print(f\"\\nClass: {label}\")\n",
    "        print(\"No instances of this class in the XGBoost test set.\")\n",
    "    \n",
    "    if len(indices_catboost) > 0:\n",
    "        accuracy_catboost_label = accuracy_score(y_test.iloc[indices_catboost], y_catboost_pred[indices_catboost])\n",
    "        print(\"CatBoost Classifier Individual Accuracy:\", accuracy_catboost_label)\n",
    "    else:\n",
    "        print(\"No instances of this class in the CatBoost test set.\")"
   ]
  }
 ],
 "metadata": {
  "kernelspec": {
   "display_name": "Python 3",
   "language": "python",
   "name": "python3"
  },
  "language_info": {
   "codemirror_mode": {
    "name": "ipython",
    "version": 3
   },
   "file_extension": ".py",
   "mimetype": "text/x-python",
   "name": "python",
   "nbconvert_exporter": "python",
   "pygments_lexer": "ipython3",
   "version": "3.11.4"
  }
 },
 "nbformat": 4,
 "nbformat_minor": 2
}
